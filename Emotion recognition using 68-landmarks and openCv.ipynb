{
 "cells": [
  {
   "cell_type": "markdown",
   "id": "frequent-feeding",
   "metadata": {},
   "source": [
    "# EMOTION RECOGNITION"
   ]
  },
  {
   "cell_type": "code",
   "execution_count": 3,
   "id": "overhead-seller",
   "metadata": {},
   "outputs": [
    {
     "name": "stdout",
     "output_type": "stream",
     "text": [
      "[*] Accuracy: 0.9565809379727686\n",
      "No face detected\n",
      "No face detected\n",
      "No face detected\n",
      "No face detected\n",
      "No face detected\n",
      "No face detected\n",
      "No face detected\n",
      "No face detected\n",
      "No face detected\n",
      "No face detected\n",
      "No face detected\n",
      "No face detected\n",
      "No face detected\n",
      "No face detected\n",
      "No face detected\n",
      "No face detected\n",
      "No face detected\n",
      "No face detected\n",
      "No face detected\n",
      "No face detected\n",
      "No face detected\n",
      "No face detected\n",
      "No face detected\n",
      "No face detected\n",
      "No face detected\n",
      "No face detected\n",
      "No face detected\n",
      "No face detected\n",
      "No face detected\n",
      "No face detected\n"
     ]
    }
   ],
   "source": [
    "from facial_emotion_recognition import EmotionRecognition\n",
    "import cv2\n",
    "\n",
    "er = EmotionRecognition(device='cpu')\n",
    "cam = cv2.VideoCapture(0)\n",
    "\n",
    "while True:\n",
    "    _, img = cam.read()\n",
    "    img = er.recognise_emotion(img, return_type='BGR')\n",
    "    cv2.imshow('Emotion Recognition', img)\n",
    "    key = cv2.waitKey(1) & 0xFF\n",
    "    if key == ord(\"k\"):\n",
    "        break\n",
    "\n",
    "cam.release()\n",
    "cv2.destroyAllWindows()"
   ]
  },
  {
   "cell_type": "code",
   "execution_count": null,
   "id": "gross-inquiry",
   "metadata": {},
   "outputs": [],
   "source": []
  }
 ],
 "metadata": {
  "kernelspec": {
   "display_name": "Python 3",
   "language": "python",
   "name": "python3"
  },
  "language_info": {
   "codemirror_mode": {
    "name": "ipython",
    "version": 3
   },
   "file_extension": ".py",
   "mimetype": "text/x-python",
   "name": "python",
   "nbconvert_exporter": "python",
   "pygments_lexer": "ipython3",
   "version": "3.8.6rc1"
  }
 },
 "nbformat": 4,
 "nbformat_minor": 5
}
